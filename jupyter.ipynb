{
 "cells": [
  {
   "cell_type": "code",
   "execution_count": 1,
   "metadata": {},
   "outputs": [],
   "source": [
    "import matplotlib.pyplot as plt\n",
    "import numpy as np\n",
    "from ipywidgets import interact"
   ]
  },
  {
   "cell_type": "code",
   "execution_count": 2,
   "metadata": {},
   "outputs": [
    {
     "data": {
      "application/vnd.jupyter.widget-view+json": {
       "model_id": "e06cc863e6fa4ef5b5079648f8eddbb2",
       "version_major": 2,
       "version_minor": 0
      },
      "text/plain": [
       "interactive(children=(FloatSlider(value=2.5, description='c1', max=5.0), FloatSlider(value=2.5, description='c…"
      ]
     },
     "metadata": {},
     "output_type": "display_data"
    }
   ],
   "source": [
    "@interact(c1=(0.0, 5.0), c2=(0.0, 5.0))\n",
    "def bistability(c1, c2):\n",
    "    var = np.arange(0, 5, 0.1)\n",
    "    xx = c1 / (1 + var**2)\n",
    "    yy = c2 / (1 + var**2)\n",
    "\n",
    "    plt.plot(xx, var, var ,yy)"
   ]
  }
 ],
 "metadata": {
  "interpreter": {
   "hash": "c26a92354bcdb1a5127577001071a3bcd9956400a83440bef5519c496d5cb8c1"
  },
  "kernelspec": {
   "display_name": "Python 3.7.3 ('base')",
   "language": "python",
   "name": "python3"
  },
  "language_info": {
   "codemirror_mode": {
    "name": "ipython",
    "version": 3
   },
   "file_extension": ".py",
   "mimetype": "text/x-python",
   "name": "python",
   "nbconvert_exporter": "python",
   "pygments_lexer": "ipython3",
   "version": "3.7.3"
  },
  "orig_nbformat": 4
 },
 "nbformat": 4,
 "nbformat_minor": 2
}
